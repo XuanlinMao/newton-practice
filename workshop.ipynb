{
 "cells": [
  {
   "cell_type": "markdown",
   "id": "033191e1-50cf-4c39-8e53-8d868c4ba8c0",
   "metadata": {},
   "source": [
    "# Workshop\n",
    "## 08/22\n",
    "\n",
    "[link](https://berkeley-scf.github.io/compute-skills-2024/units/comp-practices.html)"
   ]
  },
  {
   "cell_type": "markdown",
   "id": "fc8d4454-5b60-44dd-8303-715d163659b7",
   "metadata": {},
   "source": [
    "* `ls`: list the files in the pwd\n",
    "* `pwd`: work director"
   ]
  },
  {
   "cell_type": "markdown",
   "id": "f09674fb-0263-4ece-92d1-af6cc2213b19",
   "metadata": {},
   "source": [
    "## Newton Optimization"
   ]
  },
  {
   "cell_type": "code",
   "execution_count": 2,
   "id": "5fd2db88-978a-472b-a5ca-56543080278d",
   "metadata": {},
   "outputs": [],
   "source": [
    "def diff(f,x,sig=1e-4):\n",
    "    return (f(x+sig/2)-f(x-sig/2))/sig\n",
    "\n",
    "def diff2(f,x,sig=1e-4):\n",
    "    return (diff(f,x+sig/2) - diff(f,x-sig/2))/sig\n",
    "\n",
    "def Newton(x0,f,error=1e-4):\n",
    "    delta = float('inf')\n",
    "    x = x0\n",
    "    while delta>error:\n",
    "        delta = diff(f,x)/diff2(f,x)\n",
    "        x -= delta\n",
    "    return x"
   ]
  },
  {
   "cell_type": "code",
   "execution_count": 3,
   "id": "d112af45-20ff-4fee-8632-26e5e0d73606",
   "metadata": {},
   "outputs": [
    {
     "data": {
      "text/plain": [
       "-4.0234482412415673e-10"
      ]
     },
     "execution_count": 3,
     "metadata": {},
     "output_type": "execute_result"
    }
   ],
   "source": [
    "def f(x): return x**4/4-x**3-x\n",
    "Newton(-0.5,f)"
   ]
  },
  {
   "cell_type": "markdown",
   "id": "ed27015b-52cc-4bbf-85e8-b4d01addbdfd",
   "metadata": {},
   "source": [
    "[code](https://ucb-stat-159-s23.github.io/site/lectures/intro-git/git-visuals.html)\n",
    "\n",
    "[slides](https://docs.google.com/presentation/d/1YlM3boYLE8DwbxGNO3ZVVt3e9gEoBgD1uc9RtItUYCU)\n",
    "\n",
    "* `git init`\n",
    "* `git add file`\n",
    "* `git commit`: hash the content and the hash of the parent(对比每个节点，计算hash，看看结果和应该的一不一样，就知道内容有没有变，只能加节点)\n",
    "* `git tag -a ver0`: tag一旦指定就不再变了，但是branch是一直在变的\n",
    "* `git switch -c dev`: 有一个新idea想试试（develop），创造一个新label dev，HEAD转移到dev上跟着走（head is where you are），再switch回main的时候只是HEAD变了\n",
    "* `git merge dev`: 用户自己决定如何解决conflict\n",
    "* `git branch --delete dev`: branch只是个label，删除branch，对应的commit不会删除。能找到一个commit的hash就可以打上branch或tag"
   ]
  },
  {
   "cell_type": "code",
   "execution_count": 2,
   "id": "7395601e-9725-4895-bb42-aa5c339f43f2",
   "metadata": {},
   "outputs": [],
   "source": [
    "import numpy as np"
   ]
  },
  {
   "cell_type": "code",
   "execution_count": 5,
   "id": "fe3b0a05-57a9-40ee-b844-ea06bba9c66c",
   "metadata": {},
   "outputs": [
    {
     "name": "stdout",
     "output_type": "stream",
     "text": [
      "NOTE: Enter 'c' at the ipdb>  prompt to continue execution.\n",
      "> \u001b[0;32m<string>\u001b[0m(2)\u001b[0;36m<module>\u001b[0;34m()\u001b[0m\n",
      "\n"
     ]
    },
    {
     "name": "stdin",
     "output_type": "stream",
     "text": [
      "ipdb>  n\n"
     ]
    },
    {
     "name": "stdout",
     "output_type": "stream",
     "text": [
      "--Return--\n",
      "None\n",
      "> \u001b[0;32m<string>\u001b[0m(2)\u001b[0;36m<module>\u001b[0;34m()\u001b[0m\n",
      "\n"
     ]
    },
    {
     "name": "stdin",
     "output_type": "stream",
     "text": [
      "ipdb>  n\n"
     ]
    }
   ],
   "source": [
    "%%debug\n",
    "Newton(10,np.cos)"
   ]
  },
  {
   "cell_type": "markdown",
   "id": "752221e2-1162-4f0e-bac2-a73e49e90857",
   "metadata": {},
   "source": [
    "1. swap 2 input\n",
    "2. only 1/0 input\n",
    "3. data structure error (input string)\n",
    "4. derivative = 0\n",
    "5. input of x0 is out of the domain of function"
   ]
  },
  {
   "cell_type": "markdown",
   "id": "ad254db0-45dc-4365-92db-d84e0e6b478b",
   "metadata": {},
   "source": [
    "## Multivariate Newton’s method"
   ]
  },
  {
   "cell_type": "code",
   "execution_count": 5,
   "id": "df0e40e4-e5e8-4ab6-898c-845f6845653a",
   "metadata": {},
   "outputs": [],
   "source": [
    "# !pip install autograd\n",
    "import autograd.numpy as np\n",
    "from autograd import grad, hessian\n",
    "from numpy.linalg import inv,norm"
   ]
  },
  {
   "cell_type": "code",
   "execution_count": 20,
   "id": "e9e6d13a-68d3-4101-b67d-c66a667675c8",
   "metadata": {},
   "outputs": [],
   "source": [
    "def Newton_multi(x0:np.ndarray,f,error=1e-4):\n",
    "    \"\"\"Multivariate Newton’s method\n",
    "    make sure x0 is float\n",
    "    \"\"\"\n",
    "    f_H = hessian(f)\n",
    "    f_g = grad(f)\n",
    "    delta = float('inf')\n",
    "    x = x0\n",
    "    while delta>error:\n",
    "        step = inv(f_H(x)) @ f_g(x)\n",
    "        delta = norm(step)\n",
    "        x -= step\n",
    "    return x"
   ]
  },
  {
   "cell_type": "code",
   "execution_count": 21,
   "id": "9907114f-15bb-428b-876b-75640620202b",
   "metadata": {},
   "outputs": [
    {
     "data": {
      "text/plain": [
       "array([-0.8,  1.2])"
      ]
     },
     "execution_count": 21,
     "metadata": {},
     "output_type": "execute_result"
    }
   ],
   "source": [
    "def f_multi(x): return (x[0]-1)**2 + x[1]**2 + 3*x[0]*x[1]\n",
    "\n",
    "Newton_multi(np.array([10.,1.]),f_multi)"
   ]
  },
  {
   "cell_type": "code",
   "execution_count": null,
   "id": "453b5a39-fdfd-4a91-ad15-40e3660c2f94",
   "metadata": {},
   "outputs": [],
   "source": []
  },
  {
   "cell_type": "code",
   "execution_count": null,
   "id": "2c3609ac-784d-4fb3-9377-d1615f02a653",
   "metadata": {},
   "outputs": [],
   "source": []
  },
  {
   "cell_type": "code",
   "execution_count": null,
   "id": "57f5594f-6a8d-4764-944e-2cc1d83be38a",
   "metadata": {},
   "outputs": [],
   "source": []
  },
  {
   "cell_type": "code",
   "execution_count": null,
   "id": "79bdb70c-78a9-44e5-a6c2-6398622ad8e8",
   "metadata": {},
   "outputs": [],
   "source": []
  },
  {
   "cell_type": "code",
   "execution_count": null,
   "id": "076857d7-0ce8-442f-9fd1-424bc88ae5c9",
   "metadata": {},
   "outputs": [],
   "source": []
  }
 ],
 "metadata": {
  "kernelspec": {
   "display_name": "Python 3 (ipykernel)",
   "language": "python",
   "name": "python3"
  },
  "language_info": {
   "codemirror_mode": {
    "name": "ipython",
    "version": 3
   },
   "file_extension": ".py",
   "mimetype": "text/x-python",
   "name": "python",
   "nbconvert_exporter": "python",
   "pygments_lexer": "ipython3",
   "version": "3.11.9"
  }
 },
 "nbformat": 4,
 "nbformat_minor": 5
}
