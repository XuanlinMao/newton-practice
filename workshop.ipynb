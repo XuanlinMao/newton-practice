{
 "cells": [
  {
   "cell_type": "markdown",
   "id": "033191e1-50cf-4c39-8e53-8d868c4ba8c0",
   "metadata": {},
   "source": [
    "# Workshop\n",
    "## 08/22\n",
    "\n",
    "[link](https://berkeley-scf.github.io/compute-skills-2024/units/comp-practices.html)"
   ]
  },
  {
   "cell_type": "markdown",
   "id": "fc8d4454-5b60-44dd-8303-715d163659b7",
   "metadata": {},
   "source": [
    "* `ls`: list the files in the pwd\n",
    "* `pwd`: work director"
   ]
  },
  {
   "cell_type": "code",
   "execution_count": 62,
   "id": "5fd2db88-978a-472b-a5ca-56543080278d",
   "metadata": {},
   "outputs": [],
   "source": [
    "def diff(f,x,sig=1e-4):\n",
    "    return (f(x+sig/2)-f(x-sig/2))/sig\n",
    "\n",
    "def diff2(f,x,sig=1e-4):\n",
    "    return (diff(f,x+sig/2) - diff(f,x-sig/2))/sig\n",
    "\n",
    "def Newton(x0,f,error=1e-4):\n",
    "    delta = float('inf')\n",
    "    x = x0\n",
    "    while delta>error:\n",
    "        delta = diff(f,x)/diff2(f,x)\n",
    "        x -= delta\n",
    "    return x"
   ]
  },
  {
   "cell_type": "code",
   "execution_count": 63,
   "id": "d112af45-20ff-4fee-8632-26e5e0d73606",
   "metadata": {},
   "outputs": [
    {
     "data": {
      "text/plain": [
       "1.533"
      ]
     },
     "execution_count": 63,
     "metadata": {},
     "output_type": "execute_result"
    }
   ],
   "source": [
    "def f(x): return (x-1.533)**2\n",
    "Newton(10,f)"
   ]
  },
  {
   "cell_type": "markdown",
   "id": "ed27015b-52cc-4bbf-85e8-b4d01addbdfd",
   "metadata": {},
   "source": [
    "[code](https://ucb-stat-159-s23.github.io/site/lectures/intro-git/git-visuals.html)\n",
    "\n",
    "[slides](https://docs.google.com/presentation/d/1YlM3boYLE8DwbxGNO3ZVVt3e9gEoBgD1uc9RtItUYCU)\n",
    "\n",
    "* `git init`\n",
    "* `git add file`\n",
    "* `git commit`: hash the content and the hash of the parent(对比每个节点，计算hash，看看结果和应该的一不一样，就知道内容有没有变，只能加节点)\n",
    "* `git tag -a ver0`: tag一旦指定就不再变了，但是branch是一直在变的\n",
    "* `git switch -c dev`: 有一个新idea想试试（develop），创造一个新label dev，HEAD转移到dev上跟着走（head is where you are），再switch回main的时候只是HEAD变了\n",
    "* `git merge dev`: 用户自己决定如何解决conflict\n",
    "* `git branch --delete dev`: branch只是个label，删除branch，对应的commit不会删除。能找到一个commit的hash就可以打上branch或tag"
   ]
  },
  {
   "cell_type": "code",
   "execution_count": null,
   "id": "7395601e-9725-4895-bb42-aa5c339f43f2",
   "metadata": {},
   "outputs": [],
   "source": []
  },
  {
   "cell_type": "code",
   "execution_count": null,
   "id": "fe3b0a05-57a9-40ee-b844-ea06bba9c66c",
   "metadata": {},
   "outputs": [],
   "source": []
  },
  {
   "cell_type": "code",
   "execution_count": null,
   "id": "eccc132c-3420-44ab-afaf-321338492996",
   "metadata": {},
   "outputs": [],
   "source": []
  }
 ],
 "metadata": {
  "kernelspec": {
   "display_name": "Python 3 (ipykernel)",
   "language": "python",
   "name": "python3"
  },
  "language_info": {
   "codemirror_mode": {
    "name": "ipython",
    "version": 3
   },
   "file_extension": ".py",
   "mimetype": "text/x-python",
   "name": "python",
   "nbconvert_exporter": "python",
   "pygments_lexer": "ipython3",
   "version": "3.11.9"
  }
 },
 "nbformat": 4,
 "nbformat_minor": 5
}
